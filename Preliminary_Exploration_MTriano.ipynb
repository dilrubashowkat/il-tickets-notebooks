{
 "cells": [
  {
   "cell_type": "code",
   "execution_count": 4,
   "metadata": {},
   "outputs": [
    {
     "data": {
      "text/html": [
       "<style>.container { width:100% !important; }</style>"
      ],
      "text/plain": [
       "<IPython.core.display.HTML object>"
      ]
     },
     "metadata": {},
     "output_type": "display_data"
    }
   ],
   "source": [
    "import os\n",
    "import pandas as pd\n",
    "import numpy as np\n",
    "import seaborn as sns\n",
    "import matplotlib.pyplot as plt\n",
    "import psutil\n",
    "from IPython.core.display import display, HTML\n",
    "pd.options.display.max_columns = None\n",
    "display(HTML(\"<style>.container { width:100% !important; }</style>\"))"
   ]
  },
  {
   "cell_type": "markdown",
   "metadata": {},
   "source": [
    "# Getting started\n",
    "\n",
    "Below you can see a basic data loader from the sample data file. Copy this notebook and start analyzing! Not sure where to start with Jupyter and Pandas? Ben Welsh's [First Python Notebook](http://www.firstpythonnotebook.org/) is a great introduction."
   ]
  },
  {
   "cell_type": "code",
   "execution_count": 5,
   "metadata": {},
   "outputs": [],
   "source": [
    "df = pd.read_csv('data/hacknight_ticket_sample_data_2015.csv', low_memory=False, parse_dates=['issue_date', 'ticket_queue_date'])"
   ]
  },
  {
   "cell_type": "code",
   "execution_count": 6,
   "metadata": {},
   "outputs": [
    {
     "name": "stdout",
     "output_type": "stream",
     "text": [
      "<class 'pandas.core.frame.DataFrame'>\n",
      "RangeIndex: 50000 entries, 0 to 49999\n",
      "Data columns (total 23 columns):\n",
      "ticket_number            50000 non-null int64\n",
      "issue_date               50000 non-null datetime64[ns]\n",
      "violation_location       50000 non-null object\n",
      "license_plate_number     50000 non-null object\n",
      "license_plate_state      49998 non-null object\n",
      "license_plate_type       49383 non-null object\n",
      "zipcode                  41550 non-null object\n",
      "violation_code           50000 non-null object\n",
      "violation_description    50000 non-null object\n",
      "unit                     50000 non-null int64\n",
      "unit_description         50000 non-null object\n",
      "vehicle_make             50000 non-null object\n",
      "fine_level1_amount       50000 non-null int64\n",
      "fine_level2_amount       50000 non-null int64\n",
      "current_amount_due       50000 non-null float64\n",
      "total_payments           50000 non-null float64\n",
      "ticket_queue             50000 non-null object\n",
      "ticket_queue_date        50000 non-null datetime64[ns]\n",
      "notice_level             36707 non-null object\n",
      "hearing_disposition      5337 non-null object\n",
      "notice_number            50000 non-null int64\n",
      "officer                  50000 non-null object\n",
      "address                  50000 non-null object\n",
      "dtypes: datetime64[ns](2), float64(2), int64(5), object(14)\n",
      "memory usage: 8.8+ MB\n"
     ]
    }
   ],
   "source": [
    "df.info()"
   ]
  },
  {
   "cell_type": "code",
   "execution_count": 7,
   "metadata": {},
   "outputs": [
    {
     "data": {
      "text/html": [
       "<div>\n",
       "<style scoped>\n",
       "    .dataframe tbody tr th:only-of-type {\n",
       "        vertical-align: middle;\n",
       "    }\n",
       "\n",
       "    .dataframe tbody tr th {\n",
       "        vertical-align: top;\n",
       "    }\n",
       "\n",
       "    .dataframe thead th {\n",
       "        text-align: right;\n",
       "    }\n",
       "</style>\n",
       "<table border=\"1\" class=\"dataframe\">\n",
       "  <thead>\n",
       "    <tr style=\"text-align: right;\">\n",
       "      <th></th>\n",
       "      <th>ticket_number</th>\n",
       "      <th>issue_date</th>\n",
       "      <th>violation_location</th>\n",
       "      <th>license_plate_number</th>\n",
       "      <th>license_plate_state</th>\n",
       "      <th>license_plate_type</th>\n",
       "      <th>zipcode</th>\n",
       "      <th>violation_code</th>\n",
       "      <th>violation_description</th>\n",
       "      <th>unit</th>\n",
       "      <th>unit_description</th>\n",
       "      <th>vehicle_make</th>\n",
       "      <th>fine_level1_amount</th>\n",
       "      <th>fine_level2_amount</th>\n",
       "      <th>current_amount_due</th>\n",
       "      <th>total_payments</th>\n",
       "      <th>ticket_queue</th>\n",
       "      <th>ticket_queue_date</th>\n",
       "      <th>notice_level</th>\n",
       "      <th>hearing_disposition</th>\n",
       "      <th>notice_number</th>\n",
       "      <th>officer</th>\n",
       "      <th>address</th>\n",
       "    </tr>\n",
       "  </thead>\n",
       "  <tbody>\n",
       "    <tr>\n",
       "      <th>0</th>\n",
       "      <td>9188814621</td>\n",
       "      <td>2015-05-07 13:52:00</td>\n",
       "      <td>2134 S ARCHER AV</td>\n",
       "      <td>7c189a16ef79db9413c1f46b7e5d1712e5c0c1575be352...</td>\n",
       "      <td>MI</td>\n",
       "      <td>PAS</td>\n",
       "      <td>48103</td>\n",
       "      <td>0964190A</td>\n",
       "      <td>EXP. METER NON-CENTRAL BUSINESS DISTRICT</td>\n",
       "      <td>498</td>\n",
       "      <td>DOF</td>\n",
       "      <td>BUIC</td>\n",
       "      <td>50</td>\n",
       "      <td>100</td>\n",
       "      <td>0.0</td>\n",
       "      <td>50.0</td>\n",
       "      <td>Paid</td>\n",
       "      <td>2015-05-13</td>\n",
       "      <td>NaN</td>\n",
       "      <td>NaN</td>\n",
       "      <td>0</td>\n",
       "      <td>798</td>\n",
       "      <td>2100 s archer av, chicago, il</td>\n",
       "    </tr>\n",
       "    <tr>\n",
       "      <th>1</th>\n",
       "      <td>65543631</td>\n",
       "      <td>2015-01-10 17:09:00</td>\n",
       "      <td>423 N LARAMIE</td>\n",
       "      <td>13d93046fb2c3bc2d79baa8647d620d0c5a65fdc223cb9...</td>\n",
       "      <td>IL</td>\n",
       "      <td>PAS</td>\n",
       "      <td>606394357</td>\n",
       "      <td>0976160F</td>\n",
       "      <td>EXPIRED PLATES OR TEMPORARY REGISTRATION</td>\n",
       "      <td>15</td>\n",
       "      <td>CPD</td>\n",
       "      <td>CHRY</td>\n",
       "      <td>60</td>\n",
       "      <td>120</td>\n",
       "      <td>146.4</td>\n",
       "      <td>0.0</td>\n",
       "      <td>Notice</td>\n",
       "      <td>2015-01-28</td>\n",
       "      <td>SEIZ</td>\n",
       "      <td>NaN</td>\n",
       "      <td>5109291290</td>\n",
       "      <td>16391</td>\n",
       "      <td>400 n laramie, chicago, il</td>\n",
       "    </tr>\n",
       "    <tr>\n",
       "      <th>2</th>\n",
       "      <td>9188975267</td>\n",
       "      <td>2015-06-11 18:49:00</td>\n",
       "      <td>1338 W CORNELIA</td>\n",
       "      <td>265ee87ad9d24c7732f65383e6b9af1f344348bf639ce2...</td>\n",
       "      <td>IL</td>\n",
       "      <td>PAS</td>\n",
       "      <td>606134985</td>\n",
       "      <td>0976160F</td>\n",
       "      <td>EXPIRED PLATES OR TEMPORARY REGISTRATION</td>\n",
       "      <td>502</td>\n",
       "      <td>DOF</td>\n",
       "      <td>BMW</td>\n",
       "      <td>60</td>\n",
       "      <td>120</td>\n",
       "      <td>0.0</td>\n",
       "      <td>60.0</td>\n",
       "      <td>Paid</td>\n",
       "      <td>2015-06-23</td>\n",
       "      <td>VIOL</td>\n",
       "      <td>NaN</td>\n",
       "      <td>5190301770</td>\n",
       "      <td>1444</td>\n",
       "      <td>1300 w cornelia, chicago, il</td>\n",
       "    </tr>\n",
       "    <tr>\n",
       "      <th>3</th>\n",
       "      <td>64465302</td>\n",
       "      <td>2015-01-14 08:09:00</td>\n",
       "      <td>229 W CERMAK RD</td>\n",
       "      <td>2800f6eaba1dc6fde0b0785df17c808dba871d1570cc4c...</td>\n",
       "      <td>IL</td>\n",
       "      <td>PAS</td>\n",
       "      <td>605442187</td>\n",
       "      <td>0964130A</td>\n",
       "      <td>PARK ALLEY</td>\n",
       "      <td>495</td>\n",
       "      <td>Miscellaneous</td>\n",
       "      <td>HOND</td>\n",
       "      <td>150</td>\n",
       "      <td>300</td>\n",
       "      <td>0.0</td>\n",
       "      <td>150.0</td>\n",
       "      <td>Paid</td>\n",
       "      <td>2015-04-28</td>\n",
       "      <td>DETR</td>\n",
       "      <td>NaN</td>\n",
       "      <td>5191229940</td>\n",
       "      <td>313</td>\n",
       "      <td>200 w cermak rd, chicago, il</td>\n",
       "    </tr>\n",
       "    <tr>\n",
       "      <th>4</th>\n",
       "      <td>9189537354</td>\n",
       "      <td>2015-10-28 16:26:00</td>\n",
       "      <td>2410 N MONTICELLO AV</td>\n",
       "      <td>f0858c838c8cabda4e8fd3e0425a6c330a76e006f9de01...</td>\n",
       "      <td>IL</td>\n",
       "      <td>PAS</td>\n",
       "      <td>60625</td>\n",
       "      <td>0964190A</td>\n",
       "      <td>EXP. METER NON-CENTRAL BUSINESS DISTRICT</td>\n",
       "      <td>729</td>\n",
       "      <td>Miscellaneous</td>\n",
       "      <td>TOYT</td>\n",
       "      <td>50</td>\n",
       "      <td>100</td>\n",
       "      <td>0.0</td>\n",
       "      <td>100.0</td>\n",
       "      <td>Paid</td>\n",
       "      <td>2016-01-27</td>\n",
       "      <td>SEIZ</td>\n",
       "      <td>NaN</td>\n",
       "      <td>5168404170</td>\n",
       "      <td>1407</td>\n",
       "      <td>2400 n monticello av, chicago, il</td>\n",
       "    </tr>\n",
       "  </tbody>\n",
       "</table>\n",
       "</div>"
      ],
      "text/plain": [
       "   ticket_number          issue_date    violation_location  \\\n",
       "0     9188814621 2015-05-07 13:52:00      2134 S ARCHER AV   \n",
       "1       65543631 2015-01-10 17:09:00         423 N LARAMIE   \n",
       "2     9188975267 2015-06-11 18:49:00       1338 W CORNELIA   \n",
       "3       64465302 2015-01-14 08:09:00       229 W CERMAK RD   \n",
       "4     9189537354 2015-10-28 16:26:00  2410 N MONTICELLO AV   \n",
       "\n",
       "                                license_plate_number license_plate_state  \\\n",
       "0  7c189a16ef79db9413c1f46b7e5d1712e5c0c1575be352...                  MI   \n",
       "1  13d93046fb2c3bc2d79baa8647d620d0c5a65fdc223cb9...                  IL   \n",
       "2  265ee87ad9d24c7732f65383e6b9af1f344348bf639ce2...                  IL   \n",
       "3  2800f6eaba1dc6fde0b0785df17c808dba871d1570cc4c...                  IL   \n",
       "4  f0858c838c8cabda4e8fd3e0425a6c330a76e006f9de01...                  IL   \n",
       "\n",
       "  license_plate_type    zipcode violation_code  \\\n",
       "0                PAS      48103       0964190A   \n",
       "1                PAS  606394357       0976160F   \n",
       "2                PAS  606134985       0976160F   \n",
       "3                PAS  605442187       0964130A   \n",
       "4                PAS      60625       0964190A   \n",
       "\n",
       "                      violation_description  unit unit_description  \\\n",
       "0  EXP. METER NON-CENTRAL BUSINESS DISTRICT   498              DOF   \n",
       "1  EXPIRED PLATES OR TEMPORARY REGISTRATION    15              CPD   \n",
       "2  EXPIRED PLATES OR TEMPORARY REGISTRATION   502              DOF   \n",
       "3                                PARK ALLEY   495    Miscellaneous   \n",
       "4  EXP. METER NON-CENTRAL BUSINESS DISTRICT   729    Miscellaneous   \n",
       "\n",
       "  vehicle_make  fine_level1_amount  fine_level2_amount  current_amount_due  \\\n",
       "0         BUIC                  50                 100                 0.0   \n",
       "1         CHRY                  60                 120               146.4   \n",
       "2          BMW                  60                 120                 0.0   \n",
       "3         HOND                 150                 300                 0.0   \n",
       "4         TOYT                  50                 100                 0.0   \n",
       "\n",
       "   total_payments ticket_queue ticket_queue_date notice_level  \\\n",
       "0            50.0         Paid        2015-05-13          NaN   \n",
       "1             0.0       Notice        2015-01-28         SEIZ   \n",
       "2            60.0         Paid        2015-06-23         VIOL   \n",
       "3           150.0         Paid        2015-04-28         DETR   \n",
       "4           100.0         Paid        2016-01-27         SEIZ   \n",
       "\n",
       "  hearing_disposition  notice_number officer  \\\n",
       "0                 NaN              0     798   \n",
       "1                 NaN     5109291290   16391   \n",
       "2                 NaN     5190301770    1444   \n",
       "3                 NaN     5191229940     313   \n",
       "4                 NaN     5168404170    1407   \n",
       "\n",
       "                             address  \n",
       "0      2100 s archer av, chicago, il  \n",
       "1         400 n laramie, chicago, il  \n",
       "2       1300 w cornelia, chicago, il  \n",
       "3       200 w cermak rd, chicago, il  \n",
       "4  2400 n monticello av, chicago, il  "
      ]
     },
     "execution_count": 7,
     "metadata": {},
     "output_type": "execute_result"
    }
   ],
   "source": [
    "df.head()"
   ]
  },
  {
   "cell_type": "code",
   "execution_count": 12,
   "metadata": {},
   "outputs": [
    {
     "data": {
      "text/plain": [
       "603e09c12c607a2ecfdc8062d4120edd10b2f5499d76fb4cc5d7a8ec73f9e04d    1383\n",
       "efa2070472920671da66b36d3d20dd2d43ff71d3abdc7b58c296cb352e46f5d2      17\n",
       "6e10183be3982ddaa3551f36ce7b95286a4746a38c817b542f7e91501426d088      13\n",
       "e2be47e37ed1fb0329320e5169cad12ec861b2b948aa4947d8ecefa46b74e1a8       9\n",
       "f774c813bcffc5b490c4f24dcae1b6fd3577d0333264eb8a9509b8a688dd64f4       6\n",
       "60be3f009de0952cad387710cd00a69a14fa1e00255e9af75f51f8bcac0804ac       5\n",
       "00a30ca6f11be2e3d10abb3a9d16953f05069ba431c296f53dd1ff416a6a333e       5\n",
       "87bb3b8e3851e5f2cd5bb3a88b24db1927b2d61eea77adf8e754d895476ecfb8       5\n",
       "4e9c8b41accba6fa01c0720864183b632f139986c326517bc86a81f8df1ec3e3       5\n",
       "76940eab16c80545082bd3fc8aefe5c5f83a786a109ef879d4c7d4f7d75cc728       4\n",
       "73883d3440f8a09f03c57eca113bc9e3765972994e4b0dc7a46bf63c1b9eff18       4\n",
       "380a28b7dbc47c75cf9b20107168afa4893023f77b9cbfd12b24c25514466964       4\n",
       "3bf2c39336305834f4406586f57525c252ea1e42050ae9f9db1e75f2093fd02c       4\n",
       "a471dae05aa66ef0cce0881af710108f5ad73549efc282655cb519e5af655cdc       4\n",
       "c0045cce6f28fec3b93145c55f6e2f799e2bea2047de238e2e119c7482583ed7       4\n",
       "d48bb7ae999ed5f037fa3aa4c3c60a7c20d34b517d8236f1428256c96292f631       4\n",
       "4e17fe01fc85dc25bcead9d2e70e11c22e0c7f9cb1895d35df3c42f00d90d0ea       4\n",
       "1267b2cbcc3a97e54ef76a8ec31d79c6b9a5393240cec35a75bedc5bc32bf4c0       4\n",
       "efc1ac21e0ac29aa8a4389b5d36775a7571e780b700593c2a0ad4d6d676669ca       4\n",
       "779d270e3e030a254cf79ecbd7ffd8c7782b0ffe86e8a530c093deabb878fdbc       4\n",
       "a650e60710e24f182509c8278b0e604374a13591d04cb12387b47595acd0a7af       4\n",
       "dd02b975f2725080bf31c70823adc72b87dce1dc9385e26a7b5c0099eed22da2       4\n",
       "2c2657dcba3e5a0fba25a4f59f0b711468b96fa4a05d3595b957f0c2c3706a2b       4\n",
       "2e942c6b9c849a36008fbbe3fa6477c52e738774437cf71a24484bce3fc83614       4\n",
       "5b3fa3b95e3ecb6d17ee383c25cde0d8ece34ca5d5dda333ab73a9c9954ba25b       4\n",
       "7abfa745926de02c06c1360dd53fac2f8642d87b954d711c7e7ea58bc3b370d5       4\n",
       "0c724655bf3e0a81c35620d82264e23d838643d4ca657ef3031e4ddda960d287       4\n",
       "a96be5cfbd17043a45df43e9b3062373db7e42e74bc81dd07a80ab6753be8122       4\n",
       "f52f04a914e4648bf92594d020f85c332889f0396e38c61acad2b9ddea5e0881       3\n",
       "7b8c2d92809bf2d1bab6524cb35b13d29b16b197975d7e4b43304bf6b7a353dc       3\n",
       "                                                                    ... \n",
       "7f4a37b3a82d3456306d5b702c20055e911d8fe6c0eaa7bab64168dfe5f74770       1\n",
       "8465a8959bc40b21744fa836ed6e92f7f6e32c991ef5a328bf2571580f499b86       1\n",
       "f1ea0963808727c412719aa5aea7adc7623259e79853dfc9934c65c004e3e1f8       1\n",
       "66fe97e0304cbf6f1d8db96599817d67d8ee0b4d7c6b1fc7f995a39a9a53a985       1\n",
       "ae414efec86d86ee51ff10fd2c0ce429b0d3a20f63a0d25a5f710b3b19a18605       1\n",
       "ca468dfaf33b59647145647b547e8c94e9d559c539109a69db8d2918358e71ce       1\n",
       "7459fa9b07cfd8bfa78c4e3328fa988b5868f903fbfc12218a46a2af0a6c06ca       1\n",
       "0cb764fd4cdbb3d5f33cdf1953be204d41649b5c971de71904a0ea09019db46e       1\n",
       "b8cbb045e588f3b5b987ebc44d16a140f8426d3ba65e9db9097a6351f0109873       1\n",
       "a59f9fb38181256a4135913f51aec0ce8f6bfcc1e69fab93097ecd15fcc8b641       1\n",
       "d9a7d356b9fc3e53a50b60c8b5426d5cbdd7987835345ddbbddb86b6f6b76b67       1\n",
       "1b29f0daa882d6547c0a9d6d3b6a1453350da21523b02a1aa1c170a8778d70f2       1\n",
       "43c798e0aa42463426f09eea8ae1d59f1194e7b42055c30b8c763e39a3f0c5fa       1\n",
       "d2f8c47599f52288893773f59788fb3c54e0637c1bab3f6c8812cbc724e1f3c1       1\n",
       "ccecd906774a2682e3c0e1bdaf4db2142f49d239e8512d81fd5d02bf3c0f36bd       1\n",
       "d9d68d2c30ce94fcbc760d74ed96dffb0141ee03439ddd1a362134efb722ca24       1\n",
       "1235c49851818af37a8a4988998cff5ff41b726850ec0fa54fd3ee3f1c7d2c2d       1\n",
       "1d65c45309192c512216409f577e31f01fa3daec261bdce7fe9561b00b92abbc       1\n",
       "d52ed0a7fc96161778641b9336393d1dba2000578e6bc89447b095ed33a2b11c       1\n",
       "62e3438301241d7a0e937cd4b3cef0cc4a8b55b8b6016d3330992f4569cc5336       1\n",
       "27693cbd30257be36aa6cb069301b90d90985db85421cba3bf73b3fc46fad514       1\n",
       "76fce52d1509531812589d5922bacade6bb4054437cd9916931ab1b9ce21ec7a       1\n",
       "05bc636e12b773468cfbccf0445acdc64d9a919b6f4ff48920f2ebef801f6af7       1\n",
       "9ef37e797e92abafa489549fa510d5d0e0bcd60fbe6b2c0ae5336972413754b0       1\n",
       "becf108cba3534ca49eea628cf554404a41a9e37df569438198a3c9d9bdc7ea1       1\n",
       "ab62b9979f7cde861325875589e64cddd5a3af4b17052fe1250a0c8efa7fdd72       1\n",
       "4e9f9d1d689f549f824076f8d07d6071c0c76e934d99a2d88ce5a3fb4e368952       1\n",
       "26ca9bf8e22fe4a652e99c9e310cfa5dec040efc636f30deefc46906a7722e7d       1\n",
       "975812b28b43872502eba9557433a2a8b4d8a487aff72d59688a289fe1c42061       1\n",
       "29e3ccae1210618db0cd3dcdeb885c3630406e6622a0695b78157f4fed085a5c       1\n",
       "Name: license_plate_number, Length: 46737, dtype: int64"
      ]
     },
     "execution_count": 12,
     "metadata": {},
     "output_type": "execute_result"
    }
   ],
   "source": [
    "df['license_plate_number'].value_counts()"
   ]
  },
  {
   "cell_type": "code",
   "execution_count": 8,
   "metadata": {},
   "outputs": [
    {
     "data": {
      "text/plain": [
       "array(['BUIC', 'CHRY', 'BMW', 'HOND', 'TOYT', 'CHEV', 'HYUN', 'DODG',\n",
       "       'OLDS', 'NISS', 'FORD', 'VOLK', 'MERZ', 'SUBA', 'PONT', 'MAZD',\n",
       "       'SAAB', 'JEEP', 'UNKN', 'AUDI', 'ACUR', 'LEXU', 'MITS', 'MERC',\n",
       "       'GMC', 'CADI', 'INFI', 'SCIO', 'SATR', 'PORS', 'INTL', 'HARL',\n",
       "       'KIA', 'RROV', 'LINC', 'VOLV', 'GENU', 'SUZI', 'HINO', 'WSTR',\n",
       "       'JAGU', 'SMRT', 'KENW', 'ISU', 'MINI', 'WORH', 'LNDR', 'FLNR',\n",
       "       'OTHR', 'TRIU', 'IND', 'PLYM', 'HUMM', 'SPNT', 'KAWA', 'EGIL',\n",
       "       'ROV', 'PETR', 'GELY', 'YAMA', 'APRL', 'THMP', 'FIAT', 'FERR',\n",
       "       'SCHW', 'HUDS', 'MASE', 'GEO', 'TESL', 'DAEW', 'ASTO', 'TRAL',\n",
       "       'STRG', 'BENT', 'VESP', 'PIAG', 'MACK', 'MERK', 'LCE', 'DUCA',\n",
       "       'PTRB', 'SYM', 'VPGP', 'KYMC', 'CAP', 'LNCI', 'CHEC', 'ROL',\n",
       "       'DATS', 'MOGU', 'POLS', 'TAOT', 'BENE', 'MCIN', 'JONW', 'MG',\n",
       "       'ZHEJ', 'FTWD', 'BUEL'], dtype=object)"
      ]
     },
     "execution_count": 8,
     "metadata": {},
     "output_type": "execute_result"
    }
   ],
   "source": [
    "df['vehicle_make'].unique()"
   ]
  },
  {
   "cell_type": "code",
   "execution_count": 9,
   "metadata": {},
   "outputs": [
    {
     "data": {
      "text/plain": [
       "CHEV    6612\n",
       "FORD    5389\n",
       "TOYT    4891\n",
       "HOND    3894\n",
       "NISS    3458\n",
       "DODG    2422\n",
       "JEEP    1927\n",
       "PONT    1653\n",
       "HYUN    1644\n",
       "VOLK    1457\n",
       "CHRY    1418\n",
       "BUIC    1313\n",
       "BMW     1113\n",
       "LEXU     950\n",
       "GMC      940\n",
       "MERZ     936\n",
       "MAZD     831\n",
       "KIA      789\n",
       "ACUR     772\n",
       "CADI     707\n",
       "AUDI     678\n",
       "MERC     630\n",
       "INFI     623\n",
       "SUBA     573\n",
       "MITS     554\n",
       "SATR     483\n",
       "LINC     464\n",
       "OLDS     447\n",
       "VOLV     433\n",
       "SCIO     211\n",
       "        ... \n",
       "CHEC       4\n",
       "IND        4\n",
       "DAEW       4\n",
       "PIAG       4\n",
       "POLS       3\n",
       "APRL       3\n",
       "DUCA       3\n",
       "MACK       3\n",
       "LCE        3\n",
       "BENE       2\n",
       "WSTR       2\n",
       "LNCI       2\n",
       "PTRB       2\n",
       "MERK       2\n",
       "TAOT       2\n",
       "DATS       1\n",
       "GELY       1\n",
       "ROL        1\n",
       "CAP        1\n",
       "ZHEJ       1\n",
       "BUEL       1\n",
       "MOGU       1\n",
       "HUDS       1\n",
       "SYM        1\n",
       "JONW       1\n",
       "VPGP       1\n",
       "SCHW       1\n",
       "FTWD       1\n",
       "MCIN       1\n",
       "MG         1\n",
       "Name: vehicle_make, Length: 99, dtype: int64"
      ]
     },
     "execution_count": 9,
     "metadata": {},
     "output_type": "execute_result"
    }
   ],
   "source": [
    "df['vehicle_make'].value_counts()"
   ]
  },
  {
   "cell_type": "code",
   "execution_count": 10,
   "metadata": {},
   "outputs": [
    {
     "data": {
      "text/plain": [
       "Index(['ticket_number', 'issue_date', 'violation_location',\n",
       "       'license_plate_number', 'license_plate_state', 'license_plate_type',\n",
       "       'zipcode', 'violation_code', 'violation_description', 'unit',\n",
       "       'unit_description', 'vehicle_make', 'fine_level1_amount',\n",
       "       'fine_level2_amount', 'current_amount_due', 'total_payments',\n",
       "       'ticket_queue', 'ticket_queue_date', 'notice_level',\n",
       "       'hearing_disposition', 'notice_number', 'officer', 'address'],\n",
       "      dtype='object')"
      ]
     },
     "execution_count": 10,
     "metadata": {},
     "output_type": "execute_result"
    }
   ],
   "source": [
    "df.columns"
   ]
  },
  {
   "cell_type": "code",
   "execution_count": 11,
   "metadata": {},
   "outputs": [
    {
     "name": "stderr",
     "output_type": "stream",
     "text": [
      "C:\\Users\\mattt\\Anaconda3\\envs\\ds36\\lib\\site-packages\\scipy\\stats\\stats.py:1713: FutureWarning: Using a non-tuple sequence for multidimensional indexing is deprecated; use `arr[tuple(seq)]` instead of `arr[seq]`. In the future this will be interpreted as an array index, `arr[np.array(seq)]`, which will result either in an error or a different result.\n",
      "  return np.add.reduce(sorted[indexer] * weights, axis=axis) / sumval\n"
     ]
    },
    {
     "data": {
      "text/plain": [
       "<matplotlib.axes._subplots.AxesSubplot at 0x25b4b0928d0>"
      ]
     },
     "execution_count": 11,
     "metadata": {},
     "output_type": "execute_result"
    },
    {
     "data": {
      "image/png": "[encoded data removed]",
      "text/plain": [
       "<Figure size 432x288 with 1 Axes>"
      ]
     },
     "metadata": {
      "needs_background": "light"
     },
     "output_type": "display_data"
    }
   ],
   "source": [
    "sns.distplot(df['fine_level2_amount'])"
   ]
  },
  {
   "cell_type": "code",
   "execution_count": 34,
   "metadata": {},
   "outputs": [
    {
     "data": {
      "text/plain": [
       "<matplotlib.axes._subplots.AxesSubplot at 0x1b552b9f4a8>"
      ]
     },
     "execution_count": 34,
     "metadata": {},
     "output_type": "execute_result"
    },
    {
     "data": {
      "image/png": "[encoded data removed]",
      "text/plain": [
       "<matplotlib.figure.Figure at 0x1b552b8db70>"
      ]
     },
     "metadata": {},
     "output_type": "display_data"
    }
   ],
   "source": [
    "sns.distplot(df['total_payments'])"
   ]
  },
  {
   "cell_type": "code",
   "execution_count": 22,
   "metadata": {},
   "outputs": [
    {
     "data": {
      "text/plain": [
       "728      429\n",
       "716      404\n",
       "638      331\n",
       "765      326\n",
       "723      325\n",
       "737      314\n",
       "1385     296\n",
       "790      282\n",
       "690      281\n",
       "800      279\n",
       "1444     274\n",
       "287      271\n",
       "714      262\n",
       "772      261\n",
       "761      260\n",
       "1374     256\n",
       "641      256\n",
       "735      256\n",
       "746      253\n",
       "102      250\n",
       "776      231\n",
       "1529     231\n",
       "1491     228\n",
       "789      223\n",
       "1462     220\n",
       "187      219\n",
       "657      219\n",
       "1457     217\n",
       "754      214\n",
       "797      214\n",
       "        ... \n",
       "3373       1\n",
       "5047       1\n",
       "17929      1\n",
       "13827      1\n",
       "14337      1\n",
       "17336      1\n",
       "16782      1\n",
       "16584      1\n",
       "4113       1\n",
       "6186       1\n",
       "57442      1\n",
       "12012      1\n",
       "7227       1\n",
       "4871       1\n",
       "10189      1\n",
       "15618      1\n",
       "10480      1\n",
       "18628      1\n",
       "6595       1\n",
       "T199       1\n",
       "01002      1\n",
       "18973      1\n",
       "10257      1\n",
       "19290      1\n",
       "12804      1\n",
       "2725       1\n",
       "7527       1\n",
       "12447      1\n",
       "9886       1\n",
       "18601      1\n",
       "Name: officer, Length: 5779, dtype: int64"
      ]
     },
     "execution_count": 22,
     "metadata": {},
     "output_type": "execute_result"
    }
   ],
   "source": [
    "officer = df['officer'].value_counts()\n",
    "officer"
   ]
  },
  {
   "cell_type": "code",
   "execution_count": 19,
   "metadata": {},
   "outputs": [
    {
     "data": {
      "text/plain": [
       "array([nan, 'SEIZ', 'VIOL', 'DETR', 'FINL', 'DLS'], dtype=object)"
      ]
     },
     "execution_count": 19,
     "metadata": {},
     "output_type": "execute_result"
    }
   ],
   "source": [
    "notice_lvl = df['notice_level'].unique()\n",
    "notice_lvl"
   ]
  },
  {
   "cell_type": "code",
   "execution_count": 14,
   "metadata": {},
   "outputs": [
    {
     "data": {
      "text/plain": [
       "array(['0964190A', '0976160F', '0964130A', '0964100A', '0964125B',\n",
       "       '0976160A', '0964090E', '0964040B', '0964150B', '0964190B',\n",
       "       '0980130B', '0964080B', '0964050J', '0964020A', '0964100D',\n",
       "       '0964170A', '0964110E', '0964100G', '0964100C', '0964110D',\n",
       "       '0964080A', '0912060', '0976160D', '0964041', '0980110B',\n",
       "       '0976140B', '0976150B', '0980110A', '0976210A', '0964140B',\n",
       "       '0976050B', '0964120A', '0980080A', '0964070', '0964060',\n",
       "       '0964020B', '0976050D', '0964110A', '0964100B', '0976050C',\n",
       "       '0964170D', '0940060', '0976210B', '0964110G', '0964160B',\n",
       "       '0964030B', '0976120', '0964110C', '0964130', '0976050E',\n",
       "       '0976180B', '0980120B', '0976180A', '0964125D', '0940080',\n",
       "       '0964125C', '0964100F', '0964120B', '0940220', '0964041B',\n",
       "       '0964170B', '0964130B', '0964210', '0964091', '0964110F',\n",
       "       '0964110B', '0976140A', '0964200B', '0976040A', '0940170',\n",
       "       '0980120A', '0964110H', '0976160B', '0976090C', '0976160C',\n",
       "       '0976010B', '0976080', '0976110A', '0964170C', '0980080C',\n",
       "       '0964020C', '0976090B', '0964100E', '0976100A', '0980095',\n",
       "       '0976070A', '0964160C', '0976060B', '0976050A'], dtype=object)"
      ]
     },
     "execution_count": 14,
     "metadata": {},
     "output_type": "execute_result"
    }
   ],
   "source": [
    "viol_code = df['violation_code'].unique()\n",
    "viol_code"
   ]
  },
  {
   "cell_type": "code",
   "execution_count": 10,
   "metadata": {},
   "outputs": [
    {
     "data": {
      "text/plain": [
       "array(['EXP. METER NON-CENTRAL BUSINESS DISTRICT',\n",
       "       'EXPIRED PLATES OR TEMPORARY REGISTRATION', 'PARK ALLEY',\n",
       "       \"WITHIN 15' OF FIRE HYDRANT\",\n",
       "       'NO CITY STICKER VEHICLE UNDER/EQUAL TO 16,000 LBS.',\n",
       "       'REAR AND FRONT PLATE REQUIRED', 'RESIDENTIAL PERMIT PARKING',\n",
       "       'STREET CLEANING', 'PARKING/STANDING PROHIBITED ANYTIME',\n",
       "       'EXPIRED METER CENTRAL BUSINESS DISTRICT',\n",
       "       'PARK IN CITY LOT WHEN CLOSED',\n",
       "       'NO STANDING/PARKING TIME RESTRICTED', 'DISABLED PARKING ZONE',\n",
       "       \"WRONG DIRECTION OR 12'' FROM CURB\", 'DISABLED CURB CUT',\n",
       "       'TRUCK,RV,BUS, OR TAXI RESIDENTIAL STREET',\n",
       "       'PARK OR STAND ON PARKWAY', 'STOP SIGN OR TRAFFIC SIGNAL',\n",
       "       'BLOCK ACCESS/ALLEY/DRIVEWAY/FIRELANE', 'PARK OR STAND ON SIDEWALK',\n",
       "       'RUSH HOUR PARKING', 'STAND, PARK, OR OTHER USE OF BUS LANE',\n",
       "       'NONCOMPLIANT PLATE(S)', 'SPECIAL EVENTS RESTRICTION',\n",
       "       'HAZARDOUS DILAPIDATED VEHICLE',\n",
       "       'EXCESS FUMES/SMOKE DURING OPERATION',\n",
       "       'BURGLAR ALARM SOUNDING OVER 4 MINUTES',\n",
       "       'ABANDONED VEH. FOR 7 DAYS OR INOPERABLE',\n",
       "       'LAMPS BROKEN OR INOPERABLE',\n",
       "       'PARK OR STAND IN BUS/TAXI/CARRIAGE STAND',\n",
       "       \"TWO HEAD LAMPS REQUIRED VISIBLE 1000'\",\n",
       "       'PARK OR STAND ON CITY PROPERTY',\n",
       "       'PARK VEHICLE SOLE PURPOSE OF DISPLAYING FOR SALE',\n",
       "       \"SNOW ROUTE: 2'' OF SNOW OR MORE\", '3-7 AM SNOW ROUTE',\n",
       "       'OBSTRUCT ROADWAY', \"REAR PLATE LIT AND LEGIBLE FOR 50'\",\n",
       "       'DOUBLE PARKING OR STANDING', 'PARK IN FIRE LANE',\n",
       "       \"RED REAR LAMP REQUIRED VISIBLE 500'\",\n",
       "       'TRUCK OR SEMI-TRAILER PROHIBITED', 'PARK/STAND ON BICYCLE PATH',\n",
       "       'WINDOWS MISSING OR CRACKED BEYOND 6',\n",
       "       'PARK OR STAND IN VIADUCT/UNDERPASS', 'CURB LOADING ZONE',\n",
       "       'OUTSIDE DIAGONAL MARKINGS', 'REAR VIEW MIRROR REQUIRED',\n",
       "       'PARK OR STAND ON CROSSWALK', 'PARK OR BLOCK ALLEY',\n",
       "       \"2 REAR TRAILER LAMPS REQ'D VISIBLE 500'\",\n",
       "       'SAFETY BELTS REQUIRED ON SCHOOL BUS', 'NO PARK IN PRIVATE LOT',\n",
       "       'SAFETY BELTS REQUIRED', 'IMPROPER DISPLAY OF CITY STICKER',\n",
       "       'PARKED/STANDING UNATTENDED W/MOTOR RUNNI',\n",
       "       'NO CITY STICKER VEHICLE OVER 16,000 LBS.', \"20'OF CROSSWALK\",\n",
       "       'PARK OR STAND ON CHA PROPERTY', 'NO OPERATOR SIGNAL',\n",
       "       'TRUCK,MOTOR HOME, BUS BUSINESS STREET', 'BLOCK ALLEY',\n",
       "       'FAIL TO DISPLAY TV NEWS PERMIT', 'INDUSTRIAL PERMIT PARKING',\n",
       "       'PARK OR STAND ON BRIDGE', 'PARK OR STAND WITHIN INTERSECTION',\n",
       "       'NO OR IMPROPER MUFFLER', 'PARK OUTSIDE METERED SPACE',\n",
       "       'HORN REQUIRED DURING OPERATION', 'UNSAFE CONDITION',\n",
       "       'NO PARK IN PUBLIC LOT', \"PARK OR STAND ON OR WITHIN 10' RR TRACKS\",\n",
       "       'REAR PLATE REQUIRED MOTORCYCLE/TRAILER', 'DEPR./DIMMED LAMPS',\n",
       "       'FRONT PLATE REQUIRED FOR TRUCK TRACTORS',\n",
       "       \"MOTORCYCLE BRAKES REQ'D DURING OPERATION\",\n",
       "       'IMPROPER LAMPS NON-MOTOR VEHICLE',\n",
       "       'PROPER FRONT AND REAR BUMPERS REQUIRED',\n",
       "       \"VEH 6' OR HIGHER WITHIN 20' OF CROSSWALK\",\n",
       "       'PARK VEHICLE TO SELL MERCHANDISE',\n",
       "       'PARK MOTORCYCLE/SCOOTER PARK AT 90 DEGREE ANGLE',\n",
       "       'IMPROPER LAMP FOR PARKED VEH ON UNLIT ST', 'UNDER FIRE ESCAPE',\n",
       "       'SUSPENSION MODIFIED BEYOND 3',\n",
       "       'EXCESSIVE DIESEL POWERED VEHICLE ENGINE RUNNING',\n",
       "       'IMPROPER SIDE COWL/FENDER LAMPS', 'NO DISPLAY OF BACK-IN PERMIT',\n",
       "       'MORE THAN THREE OR IMPROPER AUX LAMP',\n",
       "       \"MOTORCYCLE HEAD LAMP VISIBLE 500'\"], dtype=object)"
      ]
     },
     "execution_count": 10,
     "metadata": {},
     "output_type": "execute_result"
    }
   ],
   "source": [
    "viols = df['violation_description'].unique()\n",
    "viols"
   ]
  },
  {
   "cell_type": "code",
   "execution_count": 11,
   "metadata": {},
   "outputs": [
    {
     "data": {
      "text/plain": [
       "88"
      ]
     },
     "execution_count": 11,
     "metadata": {},
     "output_type": "execute_result"
    }
   ],
   "source": [
    "len(viols)"
   ]
  },
  {
   "cell_type": "code",
   "execution_count": 11,
   "metadata": {},
   "outputs": [
    {
     "data": {
      "text/plain": [
       "0.007510716149803279"
      ]
     },
     "execution_count": 11,
     "metadata": {},
     "output_type": "execute_result"
    }
   ],
   "source": [
    "(2970733-2926441)/(2970733+2926441)"
   ]
  },
  {
   "cell_type": "code",
   "execution_count": null,
   "metadata": {},
   "outputs": [],
   "source": []
  }
 ],
 "metadata": {
  "kernelspec": {
   "display_name": "Python 3",
   "language": "python",
   "name": "python3"
  },
  "language_info": {
   "codemirror_mode": {
    "name": "ipython",
    "version": 3
   },
   "file_extension": ".py",
   "mimetype": "text/x-python",
   "name": "python",
   "nbconvert_exporter": "python",
   "pygments_lexer": "ipython3",
   "version": "3.6.6"
  }
 },
 "nbformat": 4,
 "nbformat_minor": 2
}
